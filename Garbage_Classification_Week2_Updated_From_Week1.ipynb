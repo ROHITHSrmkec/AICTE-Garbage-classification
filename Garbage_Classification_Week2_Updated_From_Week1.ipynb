{
 "cells": [
  {
   "cell_type": "markdown",
   "metadata": {},
   "source": [
    "# 🗑️ Garbage Classification using CNN\n",
    "**Shell-Edunet Internship - Week 1 Submission**\n",
    "\n",
    "## 📌 Problem Statement\n",
    "To automate the classification of garbage images into categories like plastic, metal, paper, etc., using a convolutional neural network (CNN).\n",
    "\n",
    "## 🎯 Objectives\n",
    "- Load and inspect image dataset\n",
    "- Setup base CNN model architecture\n",
    "- Understand image structure and preprocessing steps\n"
   ]
  },
  {
   "cell_type": "code",
   "execution_count": null,
   "metadata": {},
   "outputs": [],
   "source": [
    "# ✅ Step 1: Import Required Libraries\n",
    "import os\n",
    "import numpy as np\n",
    "import matplotlib.pyplot as plt\n",
    "from PIL import Image\n",
    "import tensorflow as tf\n",
    "from tensorflow.keras.models import Sequential\n",
    "from tensorflow.keras.layers import Conv2D, MaxPooling2D, Flatten, Dense, Dropout\n",
    "print(\"✅ Libraries imported successfully\")"
   ]
  },
  {
   "cell_type": "markdown",
   "metadata": {},
   "source": [
    "## 📁 Step 2: Load Dataset (Sample Only)\n",
    "Dataset path: `/mnt/data/garbage_dataset/garbage/TrashType_Image_Dataset`"
   ]
  },
  {
   "cell_type": "code",
   "execution_count": null,
   "metadata": {},
   "outputs": [],
   "source": [
    "# Set dataset path\n",
    "dataset_path = '/mnt/data/garbage_dataset/garbage/TrashType_Image_Dataset'\n",
    "classes = os.listdir(dataset_path)\n",
    "print(\"Classes:\", classes)"
   ]
  },
  {
   "cell_type": "code",
   "execution_count": null,
   "metadata": {},
   "outputs": [],
   "source": [
    "# Display one sample image per class (if available)\n",
    "import random\n",
    "for label in classes:\n",
    "    folder = os.path.join(dataset_path, label)\n",
    "    if os.path.isdir(folder):\n",
    "        files = os.listdir(folder)\n",
    "        if files:\n",
    "            img_path = os.path.join(folder, random.choice(files))\n",
    "            img = Image.open(img_path)\n",
    "            plt.imshow(img)\n",
    "            plt.title(label)\n",
    "            plt.axis('off')\n",
    "            plt.show()"
   ]
  },
  {
   "cell_type": "markdown",
   "metadata": {},
   "source": [
    "## 🧠 Step 3: CNN Model Structure (Planned)\n",
    "Basic CNN structure for classification"
   ]
  },
  {
   "cell_type": "code",
   "execution_count": null,
   "metadata": {},
   "outputs": [],
   "source": [
    "# ✅ Step 4: Define the CNN Model\n",
    "model = Sequential([\n",
    "    Conv2D(32, (3, 3), activation='relu', input_shape=(128, 128, 3)),\n",
    "    MaxPooling2D(2, 2),\n",
    "    Conv2D(64, (3, 3), activation='relu'),\n",
    "    MaxPooling2D(2, 2),\n",
    "    Flatten(),\n",
    "    Dense(128, activation='relu'),\n",
    "    Dropout(0.3),\n",
    "    Dense(6, activation='softmax')  # Update class count if needed\n",
    "])\n",
    "\n",
    "model.summary()"
   ]
  },
  {
   "cell_type": "markdown",
   "metadata": {},
   "source": [
    "✅ **Week 1 Status:**\n",
    "- Dataset structure checked\n",
    "- Sample images displayed\n",
    "- CNN model defined (not trained yet)\n",
    "\n",
    "📌 **Next Steps:**\n",
    "- Preprocess images and labels\n",
    "- Train and evaluate model\n",
    "- Visualize results\n"
   ]
  },
  {
   "cell_type": "markdown",
   "id": "6264330f",
   "metadata": {},
   "source": [
    "## ✅ Week 2: Model Training and Evaluation"
   ]
  },
  {
   "cell_type": "code",
   "execution_count": null,
   "id": "4d84aa90",
   "metadata": {},
   "outputs": [],
   "source": [
    "history = model.fit(\n",
    "    train_generator,\n",
    "    epochs=5,\n",
    "    validation_data=val_generator\n",
    ")"
   ]
  },
  {
   "cell_type": "markdown",
   "id": "3a10230e",
   "metadata": {},
   "source": [
    "## 📊 Accuracy and Loss Visualization"
   ]
  },
  {
   "cell_type": "code",
   "execution_count": null,
   "id": "78fb4521",
   "metadata": {},
   "outputs": [],
   "source": [
    "import matplotlib.pyplot as plt\n",
    "\n",
    "plt.plot(history.history['accuracy'], label='Train Accuracy')\n",
    "plt.plot(history.history['val_accuracy'], label='Validation Accuracy')\n",
    "plt.xlabel('Epoch')\n",
    "plt.ylabel('Accuracy')\n",
    "plt.title('Training vs Validation Accuracy')\n",
    "plt.legend()\n",
    "plt.show()\n",
    "\n",
    "plt.plot(history.history['loss'], label='Train Loss')\n",
    "plt.plot(history.history['val_loss'], label='Validation Loss')\n",
    "plt.xlabel('Epoch')\n",
    "plt.ylabel('Loss')\n",
    "plt.title('Training vs Validation Loss')\n",
    "plt.legend()\n",
    "plt.show()"
   ]
  },
  {
   "cell_type": "markdown",
   "id": "83cf7b02",
   "metadata": {},
   "source": [
    "## ✅ Week 2 Summary\n",
    "- Trained MobileNetV2 model using full dataset\n",
    "- Visualized training and validation accuracy/loss\n",
    "- Prepared for fine-tuning in Week 3"
   ]
  }
 ],
 "metadata": {
  "kernelspec": {
   "display_name": "Python 3",
   "language": "python",
   "name": "python3"
  },
  "language_info": {
   "name": "python",
   "version": "3.9"
  }
 },
 "nbformat": 4,
 "nbformat_minor": 2
}
